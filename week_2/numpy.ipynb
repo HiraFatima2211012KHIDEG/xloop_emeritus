{
 "cells": [
  {
   "cell_type": "markdown",
   "id": "9dcb3098",
   "metadata": {},
   "source": [
    "Pair with **Anoosha Malik (2211-003-KHI-DEG)**"
   ]
  },
  {
   "cell_type": "code",
   "execution_count": 73,
   "id": "cfcf467b",
   "metadata": {},
   "outputs": [],
   "source": [
    "import numpy as np"
   ]
  },
  {
   "cell_type": "code",
   "execution_count": 79,
   "id": "d859650b",
   "metadata": {},
   "outputs": [],
   "source": [
    "arr = np.random.randint(2,10,size=(6,4))  #generates random array with values between 2,10"
   ]
  },
  {
   "cell_type": "code",
   "execution_count": 80,
   "id": "1aad41dd",
   "metadata": {},
   "outputs": [
    {
     "data": {
      "text/plain": [
       "array([[9, 9, 2, 9],\n",
       "       [2, 9, 4, 5],\n",
       "       [7, 9, 4, 9],\n",
       "       [7, 6, 6, 5],\n",
       "       [4, 6, 8, 6],\n",
       "       [8, 4, 3, 4]])"
      ]
     },
     "execution_count": 80,
     "metadata": {},
     "output_type": "execute_result"
    }
   ],
   "source": [
    "arr"
   ]
  },
  {
   "cell_type": "code",
   "execution_count": 101,
   "id": "94488be4",
   "metadata": {},
   "outputs": [],
   "source": [
    "arr[4,:] = np.add(arr[0,:], arr[2,:])  #row 5 will be replace with the sum of row 1 and 3"
   ]
  },
  {
   "cell_type": "code",
   "execution_count": 104,
   "id": "6df2bb8d",
   "metadata": {},
   "outputs": [],
   "source": [
    "arr[5,:] = np.add(arr[1,:], arr[3,:])  #row 6 will be replace with the sum of row 2 and 4"
   ]
  },
  {
   "cell_type": "code",
   "execution_count": 105,
   "id": "83a0afe1",
   "metadata": {},
   "outputs": [
    {
     "data": {
      "text/plain": [
       "array([[ 9,  9,  2,  9],\n",
       "       [ 2,  9,  4,  5],\n",
       "       [ 7,  9,  4,  9],\n",
       "       [ 7,  6,  6,  5],\n",
       "       [16, 18,  6, 18],\n",
       "       [ 9, 15, 10, 10]])"
      ]
     },
     "execution_count": 105,
     "metadata": {},
     "output_type": "execute_result"
    }
   ],
   "source": [
    "arr"
   ]
  }
 ],
 "metadata": {
  "kernelspec": {
   "display_name": "jupyter-python",
   "language": "python",
   "name": "jupyter-python"
  },
  "language_info": {
   "codemirror_mode": {
    "name": "ipython",
    "version": 3
   },
   "file_extension": ".py",
   "mimetype": "text/x-python",
   "name": "python",
   "nbconvert_exporter": "python",
   "pygments_lexer": "ipython3",
   "version": "3.10.6"
  }
 },
 "nbformat": 4,
 "nbformat_minor": 5
}
